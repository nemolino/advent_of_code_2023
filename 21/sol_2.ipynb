{
 "cells": [
  {
   "cell_type": "code",
   "execution_count": 106,
   "metadata": {},
   "outputs": [],
   "source": [
    "import numpy as np"
   ]
  },
  {
   "cell_type": "code",
   "execution_count": 125,
   "metadata": {},
   "outputs": [
    {
     "data": {
      "text/plain": [
       "'\\nfor dist in [65,65+n,65+n*2,65+n*3,65+n*4,65+n*5]:\\n    print(dist)\\n    for k in V:\\n        if k[0] == dist:\\n            print(k[1],k[2], len(V[k]))\\n    print()\\n'"
      ]
     },
     "execution_count": 125,
     "metadata": {},
     "output_type": "execute_result"
    }
   ],
   "source": [
    "from collections import deque\n",
    "\n",
    "with open('input.txt') as f:\n",
    "    M = tuple(map(lambda x: tuple(x.strip()), f.readlines()))\n",
    "\n",
    "assert len(M) == len(M[0])  # square matrix\n",
    "n = len(M)\n",
    "\n",
    "VISITED = set()\n",
    "V = {}\n",
    "Q = deque([])\n",
    "\n",
    "for i in range(n):\n",
    "    for j in range(n):\n",
    "        if M[i][j] == 'S':\n",
    "            p = i,j,0,0,0           # 3rd field is the distance from S\n",
    "            VISITED.add(p)\n",
    "            Q.append(p)\n",
    "\n",
    "def update_structures(p_i, p_j, p_dist, replica_i, replica_j):\n",
    "    p = p_i, p_j, p_dist, replica_i, replica_j\n",
    "    if p not in VISITED:\n",
    "\n",
    "        #if p_dist in [65, 65+n, 65+n*2, 65+n*3, 65+n*4, 65+n*5]:  \n",
    "        if p_dist in [65, 65+n, 65+n*2, 65+n*3, 65+n*4]: \n",
    "            if tuple([p_dist, replica_i, replica_j]) not in V:\n",
    "                V[tuple([p_dist, replica_i, replica_j])] = set()\n",
    "            V[tuple([p_dist, replica_i, replica_j])].add(tuple([p_i, p_j]))\n",
    "\n",
    "        VISITED.add(p)\n",
    "        Q.append(p)\n",
    "\n",
    "while Q:\n",
    "\n",
    "    p_i, p_j, p_dist, replica_i, replica_j = Q.popleft()\n",
    "\n",
    "    # if p_dist > 65+n*5:       uncomment if you want to wait \n",
    "    if p_dist > 65+n*4: \n",
    "        continue\n",
    "    \n",
    "    if p_i-1 == -1 and M[n-1][p_j] != '#':\n",
    "        update_structures(n-1, p_j, p_dist+1, replica_i-1, replica_j)\n",
    "    elif M[p_i-1][p_j] != '#':\n",
    "        update_structures(p_i-1, p_j, p_dist+1, replica_i, replica_j)\n",
    "\n",
    "    if p_i+1 == n and M[0][p_j] != '#': \n",
    "        update_structures(0, p_j, p_dist+1, replica_i+1, replica_j)\n",
    "    elif M[p_i+1][p_j] != '#':\n",
    "        update_structures(p_i+1, p_j, p_dist+1, replica_i, replica_j)\n",
    "\n",
    "    if p_j-1 == -1 and M[p_i][n-1] != '#': \n",
    "        update_structures(p_i, n-1, p_dist+1, replica_i, replica_j-1)\n",
    "    elif M[p_i][p_j-1] != '#':\n",
    "        update_structures(p_i, p_j-1, p_dist+1, replica_i, replica_j)\n",
    "\n",
    "    if p_j+1 == n and M[p_i][0] != '#': \n",
    "        update_structures(p_i, 0, p_dist+1, replica_i, replica_j+1)\n",
    "    elif M[p_i][p_j+1] != '#':\n",
    "        update_structures(p_i, p_j+1, p_dist+1, replica_i, replica_j)\n",
    "\n",
    "\n",
    "M0 = np.zeros((11,11))\n",
    "M1 = np.zeros((11,11))\n",
    "M2 = np.zeros((11,11))\n",
    "M3 = np.zeros((11,11))\n",
    "M4 = np.zeros((11,11))\n",
    "#M5 = np.zeros((11,11))         uncomment if you want to wait \n",
    "\n",
    "for k in V:\n",
    "\n",
    "    if k[0] == 65:          M0[k[1]+5,k[2]+5] = len(V[k])\n",
    "    elif k[0] == 65+n:      M1[k[1]+5,k[2]+5] = len(V[k])\n",
    "    elif k[0] == 65+n*2:    M2[k[1]+5,k[2]+5] = len(V[k])\n",
    "    elif k[0] == 65+n*3:    M3[k[1]+5,k[2]+5] = len(V[k])\n",
    "    elif k[0] == 65+n*4:    M4[k[1]+5,k[2]+5] = len(V[k])\n",
    "    #elif k[0] == 65+n*5:    M5[k[1]+5,k[2]+5] = len(V[k])\n",
    "    else:                   raise AssertionError()"
   ]
  },
  {
   "attachments": {},
   "cell_type": "markdown",
   "metadata": {},
   "source": [
    "la matrice quadrata ha dimensione 131\n",
    "\n",
    "per sforarla la prima volta servono 65 passi\n",
    "\n",
    "per sforare le nuove matrici poi servono ogni volta 131 passi\n",
    "\n",
    "\"per magia\" il nostro numero di passi è esattamente uguale a 65 + 131 * 202300"
   ]
  },
  {
   "cell_type": "code",
   "execution_count": 107,
   "metadata": {},
   "outputs": [
    {
     "data": {
      "text/plain": [
       "202300.0"
      ]
     },
     "execution_count": 107,
     "metadata": {},
     "output_type": "execute_result"
    }
   ],
   "source": [
    "(26501365 - 65) / 131"
   ]
  },
  {
   "attachments": {},
   "cell_type": "markdown",
   "metadata": {},
   "source": [
    "questo è il numero di celle raggiungibili in ogni matrice dopo 65 + 131 * n passi con n = 0"
   ]
  },
  {
   "cell_type": "code",
   "execution_count": 126,
   "metadata": {},
   "outputs": [
    {
     "data": {
      "text/plain": [
       "array([[3734.,    0.,    0.,    0.,    0.,    0.,    0.,    0.,    0.,\n",
       "           0.,    0.],\n",
       "       [   0.,    0.,    0.,    0.,    0.,    0.,    0.,    0.,    0.,\n",
       "           0.,    0.],\n",
       "       [   0.,    0.,    0.,    0.,    0.,    0.,    0.,    0.,    0.,\n",
       "           0.,    0.],\n",
       "       [   0.,    0.,    0.,    0.,    0.,    0.,    0.,    0.,    0.,\n",
       "           0.,    0.],\n",
       "       [   0.,    0.,    0.,    0.,    0.,    0.,    0.,    0.,    0.,\n",
       "           0.,    0.],\n",
       "       [   0.,    0.,    0.,    0.,    0.,    0.,    0.,    0.,    0.,\n",
       "           0.,    0.],\n",
       "       [   0.,    0.,    0.,    0.,    0.,    0.,    0.,    0.,    0.,\n",
       "           0.,    0.],\n",
       "       [   0.,    0.,    0.,    0.,    0.,    0.,    0.,    0.,    0.,\n",
       "           0.,    0.],\n",
       "       [   0.,    0.,    0.,    0.,    0.,    0.,    0.,    0.,    0.,\n",
       "           0.,    0.],\n",
       "       [   0.,    0.,    0.,    0.,    0.,    0.,    0.,    0.,    0.,\n",
       "           0.,    0.],\n",
       "       [   0.,    0.,    0.,    0.,    0.,    0.,    0.,    0.,    0.,\n",
       "           0.,    0.]])"
      ]
     },
     "execution_count": 126,
     "metadata": {},
     "output_type": "execute_result"
    }
   ],
   "source": [
    "M0"
   ]
  },
  {
   "attachments": {},
   "cell_type": "markdown",
   "metadata": {},
   "source": [
    "questo è il numero di celle raggiungibili in ogni matrice dopo 65 + 131 * n passi con n = 1"
   ]
  },
  {
   "cell_type": "code",
   "execution_count": 127,
   "metadata": {},
   "outputs": [
    {
     "data": {
      "text/plain": [
       "array([[7354., 5538.,    0.,    0.,    0.,    0.,    0.,    0.,    0.,\n",
       "           0., 5558.],\n",
       "       [5555.,  941.,    0.,    0.,    0.,    0.,    0.,    0.,    0.,\n",
       "           0.,  936.],\n",
       "       [   0.,    0.,    0.,    0.,    0.,    0.,    0.,    0.,    0.,\n",
       "           0.,    0.],\n",
       "       [   0.,    0.,    0.,    0.,    0.,    0.,    0.,    0.,    0.,\n",
       "           0.,    0.],\n",
       "       [   0.,    0.,    0.,    0.,    0.,    0.,    0.,    0.,    0.,\n",
       "           0.,    0.],\n",
       "       [   0.,    0.,    0.,    0.,    0.,    0.,    0.,    0.,    0.,\n",
       "           0.,    0.],\n",
       "       [   0.,    0.,    0.,    0.,    0.,    0.,    0.,    0.,    0.,\n",
       "           0.,    0.],\n",
       "       [   0.,    0.,    0.,    0.,    0.,    0.,    0.,    0.,    0.,\n",
       "           0.,    0.],\n",
       "       [   0.,    0.,    0.,    0.,    0.,    0.,    0.,    0.,    0.,\n",
       "           0.,    0.],\n",
       "       [   0.,    0.,    0.,    0.,    0.,    0.,    0.,    0.,    0.,\n",
       "           0.,    0.],\n",
       "       [5541.,  937.,    0.,    0.,    0.,    0.,    0.,    0.,    0.,\n",
       "           0.,  925.]])"
      ]
     },
     "execution_count": 127,
     "metadata": {},
     "output_type": "execute_result"
    }
   ],
   "source": [
    "M1"
   ]
  },
  {
   "attachments": {},
   "cell_type": "markdown",
   "metadata": {},
   "source": [
    "questo è il numero di celle raggiungibili in ogni matrice dopo 65 + 131 * n passi con n = 2"
   ]
  },
  {
   "cell_type": "code",
   "execution_count": null,
   "metadata": {},
   "outputs": [],
   "source": [
    "M2"
   ]
  },
  {
   "cell_type": "code",
   "execution_count": 108,
   "metadata": {},
   "outputs": [],
   "source": [
    "with open('mat_before_before.txt') as f:\n",
    "    input = tuple(map(lambda x: x.strip(), f.readlines()))\n",
    "\n",
    "M = np.zeros((11,11),dtype=np.int64)"
   ]
  },
  {
   "cell_type": "code",
   "execution_count": 109,
   "metadata": {},
   "outputs": [
    {
     "data": {
      "text/plain": [
       "array([[   0,    0,    0,    0,    0,    0,    0,    0,    0,    0,    0],\n",
       "       [   0,    0,    0,    0,    0,    0,    0,    0,    0,    0,    0],\n",
       "       [   0,    0,    0,    0,    0,    0,    0,    0,    0,    0,    0],\n",
       "       [   0,    0,    0,    0,  925, 5541,  937,    0,    0,    0,    0],\n",
       "       [   0,    0,    0,  925, 6459, 7354, 6444,  937,    0,    0,    0],\n",
       "       [   0,    0,    0, 5558, 7354, 7362, 7354, 5538,    0,    0,    0],\n",
       "       [   0,    0,    0,  936, 6461, 7354, 6456,  941,    0,    0,    0],\n",
       "       [   0,    0,    0,    0,  936, 5555,  941,    0,    0,    0,    0],\n",
       "       [   0,    0,    0,    0,    0,    0,    0,    0,    0,    0,    0],\n",
       "       [   0,    0,    0,    0,    0,    0,    0,    0,    0,    0,    0],\n",
       "       [   0,    0,    0,    0,    0,    0,    0,    0,    0,    0,    0]])"
      ]
     },
     "execution_count": 109,
     "metadata": {},
     "output_type": "execute_result"
    }
   ],
   "source": [
    "for l in input:\n",
    "    i,j,value = list(map(lambda x: int(x), l.split()))\n",
    "    M[i+5][j+5] = value\n",
    "M"
   ]
  },
  {
   "attachments": {},
   "cell_type": "markdown",
   "metadata": {},
   "source": [
    "questo è il numero di celle raggiungibili in ogni matrice dopo 65 + 131 * n passi con n = 3"
   ]
  },
  {
   "cell_type": "code",
   "execution_count": null,
   "metadata": {},
   "outputs": [],
   "source": [
    "M3"
   ]
  },
  {
   "cell_type": "code",
   "execution_count": 110,
   "metadata": {},
   "outputs": [],
   "source": [
    "with open('mat_before.txt') as f:\n",
    "    input = tuple(map(lambda x: x.strip(), f.readlines()))\n",
    "\n",
    "M = np.zeros((11,11),dtype=np.int64)"
   ]
  },
  {
   "cell_type": "code",
   "execution_count": 111,
   "metadata": {},
   "outputs": [
    {
     "data": {
      "text/plain": [
       "array([[   0,    0,    0,    0,    0,    0,    0,    0,    0,    0,    0],\n",
       "       [   0,    0,    0,    0,    0,    0,    0,    0,    0,    0,    0],\n",
       "       [   0,    0,    0,    0,  925, 5541,  937,    0,    0,    0,    0],\n",
       "       [   0,    0,    0,  925, 6459, 7354, 6444,  937,    0,    0,    0],\n",
       "       [   0,    0,  925, 6459, 7354, 7362, 7354, 6444,  937,    0,    0],\n",
       "       [   0,    0, 5558, 7354, 7362, 7354, 7362, 7354, 5538,    0,    0],\n",
       "       [   0,    0,  936, 6461, 7354, 7362, 7354, 6456,  941,    0,    0],\n",
       "       [   0,    0,    0,  936, 6461, 7354, 6456,  941,    0,    0,    0],\n",
       "       [   0,    0,    0,    0,  936, 5555,  941,    0,    0,    0,    0],\n",
       "       [   0,    0,    0,    0,    0,    0,    0,    0,    0,    0,    0],\n",
       "       [   0,    0,    0,    0,    0,    0,    0,    0,    0,    0,    0]])"
      ]
     },
     "execution_count": 111,
     "metadata": {},
     "output_type": "execute_result"
    }
   ],
   "source": [
    "for l in input:\n",
    "    i,j,value = list(map(lambda x: int(x), l.split()))\n",
    "    M[i+5][j+5] = value\n",
    "M"
   ]
  },
  {
   "cell_type": "code",
   "execution_count": 112,
   "metadata": {},
   "outputs": [
    {
     "data": {
      "text/plain": [
       "180683"
      ]
     },
     "execution_count": 112,
     "metadata": {},
     "output_type": "execute_result"
    }
   ],
   "source": [
    "np.sum(M)"
   ]
  },
  {
   "attachments": {},
   "cell_type": "markdown",
   "metadata": {},
   "source": [
    "ricaviamo, guardando la matrice, una formula per calcolare il numero totale di celle raggiungibili dopo 65 + 131 * n passi"
   ]
  },
  {
   "cell_type": "code",
   "execution_count": 113,
   "metadata": {},
   "outputs": [
    {
     "data": {
      "text/plain": [
       "180683"
      ]
     },
     "execution_count": 113,
     "metadata": {},
     "output_type": "execute_result"
    }
   ],
   "source": [
    "n=3\n",
    "936*n + 925*n + 937*n + 941*n + 5558 + 5541 + 5538 + 5555 + 6461*(n-1) + 6459*(n-1) + 6444*(n-1) + 6456*(n-1) + 7354 * (n**2) + 7362 * ((n-1)**2)"
   ]
  },
  {
   "attachments": {},
   "cell_type": "markdown",
   "metadata": {},
   "source": [
    "questo è il numero di celle raggiungibili in ogni matrice dopo 65 + 131 * n passi con n = 4"
   ]
  },
  {
   "cell_type": "code",
   "execution_count": null,
   "metadata": {},
   "outputs": [],
   "source": [
    "M4"
   ]
  },
  {
   "cell_type": "code",
   "execution_count": 114,
   "metadata": {},
   "outputs": [],
   "source": [
    "with open('mat_after.txt') as f:\n",
    "    input = tuple(map(lambda x: x.strip(), f.readlines()))\n",
    "\n",
    "M = np.zeros((11,11),dtype=np.int64)"
   ]
  },
  {
   "cell_type": "code",
   "execution_count": 115,
   "metadata": {},
   "outputs": [
    {
     "data": {
      "text/plain": [
       "array([[   0,    0,    0,    0,    0,    0,    0,    0,    0,    0,    0],\n",
       "       [   0,    0,    0,    0,  925, 5541,  937,    0,    0,    0,    0],\n",
       "       [   0,    0,    0,  925, 6459, 7354, 6444,  937,    0,    0,    0],\n",
       "       [   0,    0,  925, 6459, 7354, 7362, 7354, 6444,  937,    0,    0],\n",
       "       [   0,  925, 6459, 7354, 7362, 7354, 7362, 7354, 6444,  937,    0],\n",
       "       [   0, 5558, 7354, 7362, 7354, 7362, 7354, 7362, 7354, 5538,    0],\n",
       "       [   0,  936, 6461, 7354, 7362, 7354, 7362, 7354, 6456,  941,    0],\n",
       "       [   0,    0,  936, 6461, 7354, 7362, 7354, 6456,  941,    0,    0],\n",
       "       [   0,    0,    0,  936, 6461, 7354, 6456,  941,    0,    0,    0],\n",
       "       [   0,    0,    0,    0,  936, 5555,  941,    0,    0,    0,    0],\n",
       "       [   0,    0,    0,    0,    0,    0,    0,    0,    0,    0,    0]])"
      ]
     },
     "execution_count": 115,
     "metadata": {},
     "output_type": "execute_result"
    }
   ],
   "source": [
    "for l in input:\n",
    "    i,j,value = list(map(lambda x: int(x), l.split()))\n",
    "    M[i+5][j+5] = value\n",
    "M"
   ]
  },
  {
   "cell_type": "code",
   "execution_count": 116,
   "metadata": {},
   "outputs": [
    {
     "data": {
      "text/plain": [
       "298530"
      ]
     },
     "execution_count": 116,
     "metadata": {},
     "output_type": "execute_result"
    }
   ],
   "source": [
    "np.sum(M)"
   ]
  },
  {
   "cell_type": "code",
   "execution_count": 117,
   "metadata": {},
   "outputs": [
    {
     "data": {
      "text/plain": [
       "298530"
      ]
     },
     "execution_count": 117,
     "metadata": {},
     "output_type": "execute_result"
    }
   ],
   "source": [
    "n=4\n",
    "936*n + 925*n + 937*n + 941*n + 5558 + 5541 + 5538 + 5555 + 6461*(n-1) + 6459*(n-1) + 6444*(n-1) + 6456*(n-1) + 7354 * (n**2) + 7362 * ((n-1)**2)"
   ]
  },
  {
   "attachments": {},
   "cell_type": "markdown",
   "metadata": {},
   "source": [
    "questo è il numero di celle raggiungibili in ogni matrice dopo 65 + 131 * n passi con n = 5"
   ]
  },
  {
   "cell_type": "code",
   "execution_count": null,
   "metadata": {},
   "outputs": [],
   "source": [
    "M5"
   ]
  },
  {
   "cell_type": "code",
   "execution_count": 118,
   "metadata": {},
   "outputs": [],
   "source": [
    "with open('mat_after_after.txt') as f:\n",
    "    input = tuple(map(lambda x: x.strip(), f.readlines()))\n",
    "\n",
    "M = np.zeros((11,11),dtype=np.int64)"
   ]
  },
  {
   "cell_type": "code",
   "execution_count": 119,
   "metadata": {},
   "outputs": [
    {
     "data": {
      "text/plain": [
       "array([[   0,    0,    0,    0,  925, 5541,  937,    0,    0,    0,    0],\n",
       "       [   0,    0,    0,  925, 6459, 7354, 6444,  937,    0,    0,    0],\n",
       "       [   0,    0,  925, 6459, 7354, 7362, 7354, 6444,  937,    0,    0],\n",
       "       [   0,  925, 6459, 7354, 7362, 7354, 7362, 7354, 6444,  937,    0],\n",
       "       [ 925, 6459, 7354, 7362, 7354, 7362, 7354, 7362, 7354, 6444,  937],\n",
       "       [5558, 7354, 7362, 7354, 7362, 7354, 7362, 7354, 7362, 7354, 5538],\n",
       "       [ 936, 6461, 7354, 7362, 7354, 7362, 7354, 7362, 7354, 6456,  941],\n",
       "       [   0,  936, 6461, 7354, 7362, 7354, 7362, 7354, 6456,  941,    0],\n",
       "       [   0,    0,  936, 6461, 7354, 7362, 7354, 6456,  941,    0,    0],\n",
       "       [   0,    0,    0,  936, 6461, 7354, 6456,  941,    0,    0,    0],\n",
       "       [   0,    0,    0,    0,  936, 5555,  941,    0,    0,    0,    0]])"
      ]
     },
     "execution_count": 119,
     "metadata": {},
     "output_type": "execute_result"
    }
   ],
   "source": [
    "for l in input:\n",
    "    i,j,value = list(map(lambda x: int(x), l.split()))\n",
    "    M[i+5][j+5] = value\n",
    "M"
   ]
  },
  {
   "cell_type": "code",
   "execution_count": 120,
   "metadata": {},
   "outputs": [
    {
     "data": {
      "text/plain": [
       "445809"
      ]
     },
     "execution_count": 120,
     "metadata": {},
     "output_type": "execute_result"
    }
   ],
   "source": [
    "np.sum(M)"
   ]
  },
  {
   "cell_type": "code",
   "execution_count": 121,
   "metadata": {},
   "outputs": [
    {
     "data": {
      "text/plain": [
       "445809"
      ]
     },
     "execution_count": 121,
     "metadata": {},
     "output_type": "execute_result"
    }
   ],
   "source": [
    "n=5\n",
    "936*n + 925*n + 937*n + 941*n + 5558 + 5541 + 5538 + 5555 + 6461*(n-1) + 6459*(n-1) + 6444*(n-1) + 6456*(n-1) + 7354 * (n**2) + 7362 * ((n-1)**2)"
   ]
  },
  {
   "attachments": {},
   "cell_type": "markdown",
   "metadata": {},
   "source": [
    "applicazione della formula per ottenere ciò che ci chiede il problema"
   ]
  },
  {
   "cell_type": "code",
   "execution_count": 122,
   "metadata": {},
   "outputs": [
    {
     "data": {
      "text/plain": [
       "602259568764234"
      ]
     },
     "execution_count": 122,
     "metadata": {},
     "output_type": "execute_result"
    }
   ],
   "source": [
    "n=202300\n",
    "936*n + 925*n + 937*n + 941*n + 5558 + 5541 + 5538 + 5555 + 6461*(n-1) + 6459*(n-1) + 6444*(n-1) + 6456*(n-1) + 7354 * (n**2) + 7362 * ((n-1)**2)"
   ]
  }
 ],
 "metadata": {
  "kernelspec": {
   "display_name": "Python 3",
   "language": "python",
   "name": "python3"
  },
  "language_info": {
   "codemirror_mode": {
    "name": "ipython",
    "version": 3
   },
   "file_extension": ".py",
   "mimetype": "text/x-python",
   "name": "python",
   "nbconvert_exporter": "python",
   "pygments_lexer": "ipython3",
   "version": "3.10.5"
  },
  "orig_nbformat": 4,
  "vscode": {
   "interpreter": {
    "hash": "aee8b7b246df8f9039afb4144a1f6fd8d2ca17a180786b69acc140d282b71a49"
   }
  }
 },
 "nbformat": 4,
 "nbformat_minor": 2
}
