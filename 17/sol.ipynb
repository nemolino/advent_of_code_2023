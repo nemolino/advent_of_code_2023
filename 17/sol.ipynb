{
 "cells": [
  {
   "attachments": {},
   "cell_type": "markdown",
   "metadata": {},
   "source": [
    "## PART 1"
   ]
  },
  {
   "cell_type": "code",
   "execution_count": 92,
   "metadata": {},
   "outputs": [],
   "source": [
    "import networkx as nx\n",
    "from collections import deque"
   ]
  },
  {
   "cell_type": "code",
   "execution_count": 93,
   "metadata": {},
   "outputs": [],
   "source": [
    "with open('input.txt') as f:\n",
    "    adj = list(map(lambda x: list(x.strip()), f.readlines()))\n",
    "\n",
    "for i in range(len(adj)): \n",
    "    adj[i] = list(map(lambda x: int(x), adj[i]))\n",
    "\n",
    "assert len(adj) == len(adj[0])\n",
    "N = len(adj)"
   ]
  },
  {
   "cell_type": "code",
   "execution_count": 94,
   "metadata": {},
   "outputs": [],
   "source": [
    "NODES = set(['S', 'T'])\n",
    "\n",
    "G = nx.DiGraph()\n",
    "\n",
    "G.add_edge('S', tuple([0,1,'→',1]), weight=adj[0][1])\n",
    "G.add_edge('S', tuple([1,0,'↓',1]), weight=adj[1][0])\n",
    "\n",
    "Q = deque([tuple([0,1,'→',1]), tuple([1,0,'↓',1])])\n",
    "\n",
    "def update_Q(i,j,dir,step):\n",
    "    new_node = tuple([i,j,dir,step])\n",
    "    G.add_edge(node, new_node, weight=adj[i][j])\n",
    "    Q.append(new_node)\n",
    "\n",
    "\n",
    "while Q:\n",
    "\n",
    "    node = Q.popleft()\n",
    "\n",
    "    if node in NODES: \n",
    "        continue\n",
    "    \n",
    "    NODES.add(node)\n",
    "\n",
    "    i,j,dir,step = node\n",
    "\n",
    "    if i == N-1 and j == N-1:\n",
    "        G.add_edge(node, 'T', weight=0)\n",
    "        continue\n",
    "\n",
    "    match dir:\n",
    "\n",
    "        case '→':\n",
    "\n",
    "            if j+1 < N and step < 3:    update_Q(i,j+1,'→',step+1)\n",
    "            if i-1 >= 0:                update_Q(i-1,j,'↑',1)\n",
    "            if i+1 < N:                 update_Q(i+1,j,'↓',1)\n",
    "\n",
    "        case '←':\n",
    "\n",
    "            if j-1 >= 0 and step < 3:   update_Q(i,j-1,'←',step+1)\n",
    "            if i-1 >= 0:                update_Q(i-1,j,'↑',1)\n",
    "            if i+1 < N:                 update_Q(i+1,j,'↓',1)\n",
    "\n",
    "        case '↑':\n",
    "\n",
    "            if i-1 >= 0 and step < 3:\n",
    "                new_node = tuple([i-1,j,'↑',step+1])\n",
    "                G.add_edge(node, new_node, weight=adj[i-1][j])\n",
    "                Q.append(new_node)\n",
    "\n",
    "            if j+1 < N:\n",
    "                new_node = tuple([i,j+1,'→',1])\n",
    "                G.add_edge(node, new_node, weight=adj[i][j+1])\n",
    "                Q.append(new_node)\n",
    "            \n",
    "            if j-1 >= 0:\n",
    "                new_node = tuple([i,j-1,'←',1])\n",
    "                G.add_edge(node, new_node, weight=adj[i][j-1])\n",
    "                Q.append(new_node)\n",
    "\n",
    "        case '↓':\n",
    "\n",
    "            if i+1 < N and step < 3:\n",
    "                new_node = tuple([i+1,j,'↓',step+1])\n",
    "                G.add_edge(node, new_node, weight=adj[i+1][j])\n",
    "                Q.append(new_node)\n",
    "\n",
    "            if j+1 < N:\n",
    "                new_node = tuple([i,j+1,'→',1])\n",
    "                G.add_edge(node, new_node, weight=adj[i][j+1])\n",
    "                Q.append(new_node)\n",
    "            \n",
    "            if j-1 >= 0:\n",
    "                new_node = tuple([i,j-1,'←',1])\n",
    "                G.add_edge(node, new_node, weight=adj[i][j-1])\n",
    "                Q.append(new_node)\n",
    "\n",
    "        case _: raise AssertionError()"
   ]
  },
  {
   "cell_type": "code",
   "execution_count": 95,
   "metadata": {},
   "outputs": [
    {
     "data": {
      "text/plain": [
       "235184"
      ]
     },
     "execution_count": 95,
     "metadata": {},
     "output_type": "execute_result"
    }
   ],
   "source": [
    "len(NODES) # only for curiosity "
   ]
  },
  {
   "cell_type": "code",
   "execution_count": 96,
   "metadata": {},
   "outputs": [
    {
     "data": {
      "text/plain": [
       "861"
      ]
     },
     "execution_count": 96,
     "metadata": {},
     "output_type": "execute_result"
    }
   ],
   "source": [
    "shortest_path = nx.dijkstra_path(G, source='S', target='T')\n",
    "nx.path_weight(G, shortest_path, weight='weight')"
   ]
  },
  {
   "attachments": {},
   "cell_type": "markdown",
   "metadata": {},
   "source": [
    "## PART 2"
   ]
  },
  {
   "cell_type": "code",
   "execution_count": 97,
   "metadata": {},
   "outputs": [],
   "source": [
    "NODES = set(['S', 'T'])\n",
    "\n",
    "G = nx.DiGraph()\n",
    "\n",
    "G.add_edge('S', tuple([0,1,'→',1]), weight=adj[0][1])\n",
    "G.add_edge('S', tuple([1,0,'↓',1]), weight=adj[1][0])\n",
    "\n",
    "Q = deque([tuple([0,1,'→',1]), tuple([1,0,'↓',1])])\n",
    "\n",
    "while Q:\n",
    "\n",
    "    node = Q.popleft()\n",
    "\n",
    "    if node in NODES: \n",
    "        continue\n",
    "    \n",
    "    NODES.add(node)\n",
    "\n",
    "    i,j,dir,step = node\n",
    "\n",
    "    if i == N-1 and j == N-1 and step >= 4:\n",
    "        G.add_edge(node, 'T', weight=0)\n",
    "        continue\n",
    "\n",
    "    match dir:\n",
    "\n",
    "        case '→':\n",
    "\n",
    "            if step < 4:\n",
    "\n",
    "                if j+1 < N:\n",
    "                    new_node = tuple([i,j+1,'→',step+1])\n",
    "                    G.add_edge(node, new_node, weight=adj[i][j+1])\n",
    "                    Q.append(new_node)\n",
    "\n",
    "            elif 4 <= step < 10:\n",
    "\n",
    "                if j+1 < N:\n",
    "                    new_node = tuple([i,j+1,'→',step+1])\n",
    "                    G.add_edge(node, new_node, weight=adj[i][j+1])\n",
    "                    Q.append(new_node)\n",
    "\n",
    "                if i-1 >= 0:\n",
    "                    new_node = tuple([i-1,j,'↑',1])\n",
    "                    G.add_edge(node, new_node, weight=adj[i-1][j])\n",
    "                    Q.append(new_node)\n",
    "\n",
    "                if i+1 < N:\n",
    "                    new_node = tuple([i+1,j,'↓',1])\n",
    "                    G.add_edge(node, new_node, weight=adj[i+1][j])\n",
    "                    Q.append(new_node)\n",
    "            \n",
    "            else:\n",
    "                \n",
    "                if i-1 >= 0:\n",
    "                    new_node = tuple([i-1,j,'↑',1])\n",
    "                    G.add_edge(node, new_node, weight=adj[i-1][j])\n",
    "                    Q.append(new_node)\n",
    "\n",
    "                if i+1 < N:\n",
    "                    new_node = tuple([i+1,j,'↓',1])\n",
    "                    G.add_edge(node, new_node, weight=adj[i+1][j])\n",
    "                    Q.append(new_node)\n",
    "\n",
    "\n",
    "        case '←':\n",
    "\n",
    "            if step < 4:\n",
    "\n",
    "                if j-1 >= 0:\n",
    "                    new_node = tuple([i,j-1,'←',step+1])\n",
    "                    G.add_edge(node, new_node, weight=adj[i][j-1])\n",
    "                    Q.append(new_node)\n",
    "\n",
    "            elif 4 <= step < 10:\n",
    "\n",
    "                if j-1 >= 0:\n",
    "                    new_node = tuple([i,j-1,'←',step+1])\n",
    "                    G.add_edge(node, new_node, weight=adj[i][j-1])\n",
    "                    Q.append(new_node)\n",
    "\n",
    "                if i-1 >= 0:\n",
    "                    new_node = tuple([i-1,j,'↑',1])\n",
    "                    G.add_edge(node, new_node, weight=adj[i-1][j])\n",
    "                    Q.append(new_node)\n",
    "\n",
    "                if i+1 < N:\n",
    "                    new_node = tuple([i+1,j,'↓',1])\n",
    "                    G.add_edge(node, new_node, weight=adj[i+1][j])\n",
    "                    Q.append(new_node)\n",
    "\n",
    "            else:\n",
    "\n",
    "                if i-1 >= 0:\n",
    "                    new_node = tuple([i-1,j,'↑',1])\n",
    "                    G.add_edge(node, new_node, weight=adj[i-1][j])\n",
    "                    Q.append(new_node)\n",
    "\n",
    "                if i+1 < N:\n",
    "                    new_node = tuple([i+1,j,'↓',1])\n",
    "                    G.add_edge(node, new_node, weight=adj[i+1][j])\n",
    "                    Q.append(new_node)\n",
    "\n",
    "        case '↑':\n",
    "\n",
    "            if step < 4:\n",
    "\n",
    "                if i-1 >= 0:\n",
    "                    new_node = tuple([i-1,j,'↑',step+1])\n",
    "                    G.add_edge(node, new_node, weight=adj[i-1][j])\n",
    "                    Q.append(new_node)\n",
    "\n",
    "            elif 4 <= step < 10:\n",
    "\n",
    "                if i-1 >= 0:\n",
    "                    new_node = tuple([i-1,j,'↑',step+1])\n",
    "                    G.add_edge(node, new_node, weight=adj[i-1][j])\n",
    "                    Q.append(new_node)\n",
    "\n",
    "                if j+1 < N:\n",
    "                    new_node = tuple([i,j+1,'→',1])\n",
    "                    G.add_edge(node, new_node, weight=adj[i][j+1])\n",
    "                    Q.append(new_node)\n",
    "                \n",
    "                if j-1 >= 0:\n",
    "                    new_node = tuple([i,j-1,'←',1])\n",
    "                    G.add_edge(node, new_node, weight=adj[i][j-1])\n",
    "                    Q.append(new_node)\n",
    "            else:\n",
    "\n",
    "                if j+1 < N:\n",
    "                    new_node = tuple([i,j+1,'→',1])\n",
    "                    G.add_edge(node, new_node, weight=adj[i][j+1])\n",
    "                    Q.append(new_node)\n",
    "                \n",
    "                if j-1 >= 0:\n",
    "                    new_node = tuple([i,j-1,'←',1])\n",
    "                    G.add_edge(node, new_node, weight=adj[i][j-1])\n",
    "                    Q.append(new_node)\n",
    "\n",
    "        case '↓':\n",
    "\n",
    "            if step < 4:\n",
    "\n",
    "                if i+1 < N:\n",
    "                    new_node = tuple([i+1,j,'↓',step+1])\n",
    "                    G.add_edge(node, new_node, weight=adj[i+1][j])\n",
    "                    Q.append(new_node)\n",
    "\n",
    "            elif 4 <= step < 10:\n",
    "\n",
    "                if i+1 < N:\n",
    "                    new_node = tuple([i+1,j,'↓',step+1])\n",
    "                    G.add_edge(node, new_node, weight=adj[i+1][j])\n",
    "                    Q.append(new_node)\n",
    "\n",
    "                if j+1 < N:\n",
    "                    new_node = tuple([i,j+1,'→',1])\n",
    "                    G.add_edge(node, new_node, weight=adj[i][j+1])\n",
    "                    Q.append(new_node)\n",
    "\n",
    "                if j-1 >= 0:\n",
    "                    new_node = tuple([i,j-1,'←',1])\n",
    "                    G.add_edge(node, new_node, weight=adj[i][j-1])\n",
    "                    Q.append(new_node)\n",
    "                    \n",
    "            else:\n",
    "\n",
    "                if j+1 < N:\n",
    "                    new_node = tuple([i,j+1,'→',1])\n",
    "                    G.add_edge(node, new_node, weight=adj[i][j+1])\n",
    "                    Q.append(new_node)\n",
    "\n",
    "                if j-1 >= 0:\n",
    "                    new_node = tuple([i,j-1,'←',1])\n",
    "                    G.add_edge(node, new_node, weight=adj[i][j-1])\n",
    "                    Q.append(new_node)\n",
    "\n",
    "        case _: raise AssertionError()"
   ]
  },
  {
   "cell_type": "code",
   "execution_count": 98,
   "metadata": {},
   "outputs": [
    {
     "data": {
      "text/plain": [
       "764202"
      ]
     },
     "execution_count": 98,
     "metadata": {},
     "output_type": "execute_result"
    }
   ],
   "source": [
    "len(NODES) # only for curiosity "
   ]
  },
  {
   "cell_type": "code",
   "execution_count": 99,
   "metadata": {},
   "outputs": [
    {
     "data": {
      "text/plain": [
       "1037"
      ]
     },
     "execution_count": 99,
     "metadata": {},
     "output_type": "execute_result"
    }
   ],
   "source": [
    "shortest_path = nx.dijkstra_path(G, source='S', target='T')\n",
    "nx.path_weight(G, shortest_path, weight='weight')"
   ]
  }
 ],
 "metadata": {
  "kernelspec": {
   "display_name": "Python 3",
   "language": "python",
   "name": "python3"
  },
  "language_info": {
   "codemirror_mode": {
    "name": "ipython",
    "version": 3
   },
   "file_extension": ".py",
   "mimetype": "text/x-python",
   "name": "python",
   "nbconvert_exporter": "python",
   "pygments_lexer": "ipython3",
   "version": "3.10.5"
  },
  "orig_nbformat": 4,
  "vscode": {
   "interpreter": {
    "hash": "aee8b7b246df8f9039afb4144a1f6fd8d2ca17a180786b69acc140d282b71a49"
   }
  }
 },
 "nbformat": 4,
 "nbformat_minor": 2
}
