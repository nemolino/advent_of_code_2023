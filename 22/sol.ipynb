{
 "cells": [
  {
   "attachments": {},
   "cell_type": "markdown",
   "metadata": {},
   "source": [
    "## PART 1"
   ]
  },
  {
   "cell_type": "code",
   "execution_count": 13,
   "metadata": {},
   "outputs": [],
   "source": [
    "with open('input.txt') as f:\n",
    "    input = list(map(lambda x: x.strip(), f.readlines()))\n",
    "\n",
    "max_z = -1\n",
    "for i,l in enumerate(input):\n",
    "    input[i] = [i+1] + list(map(lambda x: list(map(lambda y: int(y), x.split(','))), l.split('~')))\n",
    "    if input[i][1][2] > max_z: max_z = input[i][1][2]\n",
    "    if input[i][2][2] > max_z: max_z = input[i][2][2]\n"
   ]
  },
  {
   "cell_type": "code",
   "execution_count": 14,
   "metadata": {},
   "outputs": [],
   "source": [
    "# input"
   ]
  },
  {
   "cell_type": "code",
   "execution_count": 15,
   "metadata": {},
   "outputs": [],
   "source": [
    "Z_LAYERS = [[] for _ in range(max_z+1)]"
   ]
  },
  {
   "cell_type": "code",
   "execution_count": 16,
   "metadata": {},
   "outputs": [],
   "source": [
    "for l in input:\n",
    "    for z in range(l[1][2], l[2][2]+1):\n",
    "        Z_LAYERS[z].append(tuple([l[0], tuple([l[1][0],l[2][0]]), tuple([l[1][1],l[2][1]])]))\n",
    "        \n",
    "# Z_LAYERS[::-1]"
   ]
  },
  {
   "cell_type": "code",
   "execution_count": 17,
   "metadata": {},
   "outputs": [],
   "source": [
    "def compatible(c1, c2):\n",
    "    if ((c1[1][0] > c2[1][1] or c2[1][0] > c1[1][1]) or \n",
    "        (c1[2][0] > c2[2][1] or c2[2][0] > c1[2][1])):\n",
    "        return True\n",
    "    else:\n",
    "        return False"
   ]
  },
  {
   "cell_type": "code",
   "execution_count": 18,
   "metadata": {},
   "outputs": [],
   "source": [
    "while True:\n",
    "\n",
    "    changed = False\n",
    "\n",
    "    for z in range(2, max_z+1):\n",
    "\n",
    "        indexes_to_remove = []\n",
    "        for i,cube in enumerate(Z_LAYERS[z]): \n",
    "            if all(compatible(cube,other_cube) for other_cube in Z_LAYERS[z-1]):\n",
    "                Z_LAYERS[z-1].append(cube)\n",
    "                indexes_to_remove.append(i)\n",
    "                changed = True\n",
    "        \n",
    "        Z_LAYERS[z] = [x for i,x in enumerate(Z_LAYERS[z]) if i not in indexes_to_remove]\n",
    "                \n",
    "    if not changed: \n",
    "        break\n",
    "\n",
    "# Z_LAYERS[::-1]"
   ]
  },
  {
   "cell_type": "code",
   "execution_count": 19,
   "metadata": {},
   "outputs": [],
   "source": [
    "SUP_BY = dict()\n",
    "\n",
    "for z in range(1, max_z+1):\n",
    "\n",
    "    for i,cube in enumerate(Z_LAYERS[z]):\n",
    "        for other_cube in Z_LAYERS[z-1]:\n",
    "            if cube[0] == other_cube[0]: \n",
    "                continue\n",
    "            if not compatible(cube,other_cube):\n",
    "                if cube[0] not in SUP_BY:\n",
    "                    SUP_BY[cube[0]] = []\n",
    "                SUP_BY[cube[0]].append(other_cube[0])\n",
    "\n",
    "# SUP_BY"
   ]
  },
  {
   "cell_type": "code",
   "execution_count": 20,
   "metadata": {},
   "outputs": [
    {
     "data": {
      "text/plain": [
       "522"
      ]
     },
     "execution_count": 20,
     "metadata": {},
     "output_type": "execute_result"
    }
   ],
   "source": [
    "res = set()\n",
    "for v in SUP_BY.values():\n",
    "    if len(v) == 1:\n",
    "        res.add(v[0])\n",
    "\n",
    "len(input)  - len(res)"
   ]
  },
  {
   "attachments": {},
   "cell_type": "markdown",
   "metadata": {},
   "source": [
    "## PART 2"
   ]
  },
  {
   "attachments": {},
   "cell_type": "markdown",
   "metadata": {},
   "source": [
    "da SUP_BY costruisco un grafo dove i -> j se il blocco i sostiene il blocco j\n",
    "\n",
    "aggiungo un blocco fittizio 0 ad altezza 0 che sostiene tutti i blocchi che non hanno archi entranti\n",
    "\n",
    "per ogni i, quando tolgo tutti i suoi archi uscenti, vedo quanti nodi del grafo smettono di essere raggiungibili da 0\n",
    "\n",
    "i nodi che smettono di essere raggiungibili sono quelli che si muoverebbero se i venisse rimosso "
   ]
  },
  {
   "cell_type": "code",
   "execution_count": 21,
   "metadata": {},
   "outputs": [],
   "source": [
    "adj_list = [[] for _ in range(len(input)+1)]\n",
    "\n",
    "for k,v in SUP_BY.items():\n",
    "    for x in v:\n",
    "        adj_list[x].append(k)\n",
    "\n",
    "no_incoming_arcs = set(range(1,len(input)+1)) \n",
    "for row in adj_list:\n",
    "    for el in row:\n",
    "        no_incoming_arcs.discard(el)\n",
    "\n",
    "adj_list[0] = list(no_incoming_arcs)"
   ]
  },
  {
   "cell_type": "code",
   "execution_count": 22,
   "metadata": {},
   "outputs": [],
   "source": [
    "# adj_list  "
   ]
  },
  {
   "cell_type": "code",
   "execution_count": 23,
   "metadata": {},
   "outputs": [],
   "source": [
    "import networkx as nx\n",
    "\n",
    "G = nx.DiGraph()\n",
    "for i in range(len(adj_list)):\n",
    "    for j in adj_list[i]:\n",
    "        G.add_edge(i, j)\n",
    "        \n",
    "# nx.draw(G, with_labels=True)"
   ]
  },
  {
   "cell_type": "code",
   "execution_count": 24,
   "metadata": {},
   "outputs": [
    {
     "data": {
      "text/plain": [
       "83519"
      ]
     },
     "execution_count": 24,
     "metadata": {},
     "output_type": "execute_result"
    }
   ],
   "source": [
    "all_nodes = set(range(1,len(input)+1))\n",
    "\n",
    "res = 0\n",
    "for i in range(1,len(adj_list)):\n",
    "\n",
    "    for j in adj_list[i]: \n",
    "        G.remove_edge(i, j)\n",
    "\n",
    "    res += len(input) - len(nx.descendants(G, 0))\n",
    "\n",
    "    for j in adj_list[i]: \n",
    "        G.add_edge(i, j)\n",
    "\n",
    "res"
   ]
  }
 ],
 "metadata": {
  "kernelspec": {
   "display_name": "Python 3",
   "language": "python",
   "name": "python3"
  },
  "language_info": {
   "codemirror_mode": {
    "name": "ipython",
    "version": 3
   },
   "file_extension": ".py",
   "mimetype": "text/x-python",
   "name": "python",
   "nbconvert_exporter": "python",
   "pygments_lexer": "ipython3",
   "version": "3.10.5"
  },
  "orig_nbformat": 4,
  "vscode": {
   "interpreter": {
    "hash": "aee8b7b246df8f9039afb4144a1f6fd8d2ca17a180786b69acc140d282b71a49"
   }
  }
 },
 "nbformat": 4,
 "nbformat_minor": 2
}
