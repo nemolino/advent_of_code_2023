{
 "cells": [
  {
   "attachments": {},
   "cell_type": "markdown",
   "metadata": {},
   "source": [
    "## PART 1"
   ]
  },
  {
   "cell_type": "code",
   "execution_count": 345,
   "metadata": {},
   "outputs": [],
   "source": [
    "import networkx as nx\n",
    "from collections import deque"
   ]
  },
  {
   "cell_type": "code",
   "execution_count": 346,
   "metadata": {},
   "outputs": [
    {
     "name": "stdout",
     "output_type": "stream",
     "text": [
      "# . # # # # # # # # # # # # # # # # # # # # # \n",
      "# . . . . . . . # # # # # # # # # . . . # # # \n",
      "# # # # # # # . # # # # # # # # # . # . # # # \n",
      "# # # . . . . . # . > . > . # # # . # . # # # \n",
      "# # # v # # # # # . # v # . # # # . # . # # # \n",
      "# # # . > . . . # . # . # . . . . . # . . . # \n",
      "# # # v # # # . # . # . # # # # # # # # # . # \n",
      "# # # . . . # . # . # . . . . . . . # . . . # \n",
      "# # # # # . # . # . # # # # # # # . # . # # # \n",
      "# . . . . . # . # . # . . . . . . . # . . . # \n",
      "# . # # # # # . # . # . # # # # # # # # # v # \n",
      "# . # . . . # . . . # . . . # # # . . . > . # \n",
      "# . # . # v # # # # # # # v # # # . # # # v # \n",
      "# . . . # . > . # . . . > . > . # . # # # . # \n",
      "# # # # # v # . # . # # # v # . # . # # # . # \n",
      "# . . . . . # . . . # . . . # . # . # . . . # \n",
      "# . # # # # # # # # # . # # # . # . # . # # # \n",
      "# . . . # # # . . . # . . . # . . . # . # # # \n",
      "# # # . # # # . # . # # # v # # # # # v # # # \n",
      "# . . . # . . . # . # . > . > . # . > . # # # \n",
      "# . # # # . # # # . # . # # # . # . # v # # # \n",
      "# . . . . . # # # . . . # # # . . . # . . . # \n",
      "# # # # # # # # # # # # # # # # # # # # # . # \n"
     ]
    }
   ],
   "source": [
    "with open('input2.txt') as f:\n",
    "    M = list(map(lambda x: list(x.strip()), f.readlines()))\n",
    "\n",
    "for row in M: \n",
    "    for el in row: \n",
    "        assert el in ['#', '.', '>', 'v']\n",
    "        print(el, end=' ')\n",
    "    print()\n",
    "\n",
    "assert len(M) == len(M[0])  # matrice quadrata\n",
    "n = len(M)"
   ]
  },
  {
   "attachments": {},
   "cell_type": "markdown",
   "metadata": {},
   "source": [
    "nella matrice non ci sono i simboli < e ^\n",
    "\n",
    "se sono in (i,j) e M[i][j] == '.' allora vale sempre j-1 >= 0\n",
    "\n",
    "se sono in (i,j) e M[i][j] == '.' allora vale sempre i+1 < n, tranne che per il punto di arrivo\n",
    "\n",
    "se sono in (i,j) e M[i][j] == '.' allora vale sempre i-1 >= 0, tranne che per il punto di partenza"
   ]
  },
  {
   "cell_type": "code",
   "execution_count": 347,
   "metadata": {},
   "outputs": [],
   "source": [
    "DAG = nx.DiGraph()\n",
    "\n",
    "Q = deque()\n",
    "Q.append(tuple([tuple([0,1]),tuple([1,1])]))\n",
    "\n",
    "while Q:\n",
    "\n",
    "    source, dest = Q.popleft()\n",
    "    DAG.add_edge(source, dest)\n",
    "    \n",
    "    i,j = dest\n",
    "\n",
    "    if M[i-1][j] not in ['#', 'v']:\n",
    "        t = tuple([i-1,j])\n",
    "        if t != source: Q.append(tuple([dest,t]))\n",
    "\n",
    "    if i+1 < n and M[i+1][j] != '#':\n",
    "        t = tuple([i+1,j])\n",
    "        if t != source: Q.append(tuple([dest,t]))\n",
    "\n",
    "    if M[i][j-1] not in ['#', '>']:\n",
    "        t = tuple([i,j-1])\n",
    "        if t != source: Q.append(tuple([dest,t]))\n",
    "\n",
    "    if j+1 < n and M[i][j+1] != '#':\n",
    "        t = tuple([i,j+1])\n",
    "        if t != source: Q.append(tuple([dest,t]))\n",
    "\n",
    "# nx.draw(G)"
   ]
  },
  {
   "cell_type": "code",
   "execution_count": 348,
   "metadata": {},
   "outputs": [
    {
     "data": {
      "text/plain": [
       "94"
      ]
     },
     "execution_count": 348,
     "metadata": {},
     "output_type": "execute_result"
    }
   ],
   "source": [
    "assert nx.is_directed_acyclic_graph(DAG)\n",
    "\n",
    "max([len(p)-1 for p in nx.all_simple_paths(DAG, source=tuple([0,1]), target=tuple([n-1,n-2]))])"
   ]
  },
  {
   "attachments": {},
   "cell_type": "markdown",
   "metadata": {},
   "source": [
    "## PART 2"
   ]
  },
  {
   "attachments": {},
   "cell_type": "markdown",
   "metadata": {},
   "source": [
    "<div>\n",
    "<img src=\"map.png\" width=\"350\"/>\n",
    "</div>"
   ]
  },
  {
   "cell_type": "code",
   "execution_count": 349,
   "metadata": {},
   "outputs": [],
   "source": [
    "G = nx.Graph()\n",
    "\n",
    "Q = deque()\n",
    "Q.append(tuple([tuple([0,1]),tuple([1,1])]))\n",
    "\n",
    "while Q:\n",
    "\n",
    "    source, dest = Q.popleft()\n",
    "    if G.has_edge(source,dest): \n",
    "        continue\n",
    "    G.add_edge(source, dest, weight=1)\n",
    "    \n",
    "    i,j = dest\n",
    "\n",
    "    if M[i-1][j] != '#':\n",
    "        t = tuple([i-1,j])\n",
    "        if t != source: Q.append(tuple([dest,t]))\n",
    "\n",
    "    if i+1 < n and M[i+1][j] != '#':\n",
    "        t = tuple([i+1,j])\n",
    "        if t != source: Q.append(tuple([dest,t]))\n",
    "\n",
    "    if M[i][j-1] != '#':\n",
    "        t = tuple([i,j-1])\n",
    "        if t != source: Q.append(tuple([dest,t]))\n",
    "\n",
    "    if j+1 < n and M[i][j+1] != '#':\n",
    "        t = tuple([i,j+1])\n",
    "        if t != source: Q.append(tuple([dest,t]))\n",
    "\n",
    "\n",
    "#nx.draw(G, pos=nx.spring_layout(G))"
   ]
  },
  {
   "cell_type": "code",
   "execution_count": 350,
   "metadata": {},
   "outputs": [
    {
     "data": {
      "text/plain": [
       "[(5, 3),\n",
       " (13, 5),\n",
       " (3, 11),\n",
       " (13, 13),\n",
       " (19, 13),\n",
       " (11, 21),\n",
       " (19, 19),\n",
       " (0, 1),\n",
       " (22, 21)]"
      ]
     },
     "execution_count": 350,
     "metadata": {},
     "output_type": "execute_result"
    }
   ],
   "source": [
    "junctions = [n for n in G.nodes if G.degree[n] > 2] + [tuple([0,1]), tuple([n-1,n-2])]\n",
    "junctions"
   ]
  },
  {
   "cell_type": "code",
   "execution_count": 351,
   "metadata": {},
   "outputs": [
    {
     "data": {
      "text/plain": [
       "{((3, 11), (11, 21), 30),\n",
       " ((3, 11), (13, 13), 24),\n",
       " ((5, 3), (0, 1), 15),\n",
       " ((5, 3), (3, 11), 22),\n",
       " ((5, 3), (13, 5), 22),\n",
       " ((11, 21), (19, 19), 10),\n",
       " ((13, 5), (13, 13), 12),\n",
       " ((13, 5), (19, 13), 38),\n",
       " ((13, 13), (11, 21), 18),\n",
       " ((13, 13), (19, 13), 10),\n",
       " ((19, 13), (19, 19), 10),\n",
       " ((19, 19), (22, 21), 5)}"
      ]
     },
     "execution_count": 351,
     "metadata": {},
     "output_type": "execute_result"
    }
   ],
   "source": [
    "PATHS = set()\n",
    "\n",
    "for n in junctions:\n",
    "    for x in G.neighbors(n):\n",
    "\n",
    "        S = set()\n",
    "        S.add(n)\n",
    "        S.add(x)\n",
    "\n",
    "        cur = x\n",
    "\n",
    "        # print(list(G.neighbors(cur)))\n",
    "        while len(list(G.neighbors(cur))) <= 2 and cur not in junctions: # and cur != n:\n",
    "            #print(cur)\n",
    "            for k in G.neighbors(cur):\n",
    "                if k not in S:\n",
    "                    S.add(k)\n",
    "                    cur = k\n",
    "                    break\n",
    "                #elif k == n: print('*',k,n, len(S))\n",
    "        \n",
    "\n",
    "        if tuple([cur, n, len(S)-1]) not in PATHS: \n",
    "            PATHS.add(tuple([n, cur, len(S)-1]))\n",
    "        #assert n != cur\n",
    "        #print(n, cur, len(S)-1)\n",
    "        #for p in nx.all_simple_paths(G, source=n, target=cur):\n",
    "        #    print(n,cur, len(S)-1, len(p))\n",
    "\n",
    "        assert cur in junctions\n",
    "    #break\n",
    "\n",
    "PATHS\n",
    "\n"
   ]
  },
  {
   "cell_type": "code",
   "execution_count": 352,
   "metadata": {},
   "outputs": [
    {
     "data": {
      "image/png": "[encoded data removed]",
      "text/plain": [
       "<Figure size 432x288 with 1 Axes>"
      ]
     },
     "metadata": {},
     "output_type": "display_data"
    }
   ],
   "source": [
    "new_G = nx.Graph()\n",
    "for edge in PATHS:\n",
    "    new_G.add_edge(edge[0], edge[1], weight=edge[2])\n",
    "\n",
    "nx.draw(new_G, pos=nx.spring_layout(new_G))"
   ]
  },
  {
   "cell_type": "code",
   "execution_count": 358,
   "metadata": {},
   "outputs": [],
   "source": [
    "res = -1\n",
    "for p in nx.all_simple_paths(new_G, source=tuple([0,1]), target=tuple([len(M)-1,len(M)-2])):\n",
    "    w = nx.path_weight(new_G, p, 'weight')\n",
    "    if w > res:\n",
    "        res = w\n",
    "res"
   ]
  },
  {
   "cell_type": "code",
   "execution_count": 354,
   "metadata": {},
   "outputs": [],
   "source": [
    "#max([len(p)-1 for p in nx.all_simple_paths(G, source=tuple([0,1]), target=tuple([n-1,n-2]))])"
   ]
  },
  {
   "attachments": {},
   "cell_type": "markdown",
   "metadata": {},
   "source": [
    "IDEA : path compression"
   ]
  }
 ],
 "metadata": {
  "kernelspec": {
   "display_name": "Python 3",
   "language": "python",
   "name": "python3"
  },
  "language_info": {
   "codemirror_mode": {
    "name": "ipython",
    "version": 3
   },
   "file_extension": ".py",
   "mimetype": "text/x-python",
   "name": "python",
   "nbconvert_exporter": "python",
   "pygments_lexer": "ipython3",
   "version": "3.10.5"
  },
  "orig_nbformat": 4,
  "vscode": {
   "interpreter": {
    "hash": "aee8b7b246df8f9039afb4144a1f6fd8d2ca17a180786b69acc140d282b71a49"
   }
  }
 },
 "nbformat": 4,
 "nbformat_minor": 2
}
