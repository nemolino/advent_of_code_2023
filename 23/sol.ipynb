{
 "cells": [
  {
   "attachments": {},
   "cell_type": "markdown",
   "metadata": {},
   "source": [
    "## PART 1"
   ]
  },
  {
   "cell_type": "code",
   "execution_count": 456,
   "metadata": {},
   "outputs": [],
   "source": [
    "import networkx as nx\n",
    "from collections import deque"
   ]
  },
  {
   "cell_type": "code",
   "execution_count": 457,
   "metadata": {},
   "outputs": [],
   "source": [
    "with open('input.txt') as f:\n",
    "    M = list(map(lambda x: list(x.strip()), f.readlines()))\n",
    "\n",
    "for row in M: \n",
    "    for el in row: \n",
    "        assert el in ['#', '.', '>', 'v']\n",
    "        #print(el, end=' ')\n",
    "    #print()\n",
    "\n",
    "assert len(M) == len(M[0])  # matrice quadrata\n",
    "n = len(M)"
   ]
  },
  {
   "attachments": {},
   "cell_type": "markdown",
   "metadata": {},
   "source": [
    "nella matrice non ci sono i simboli < e ^\n",
    "\n",
    "se sono in (i,j) e M[i][j] == '.' allora vale sempre j-1 >= 0\n",
    "\n",
    "se sono in (i,j) e M[i][j] == '.' allora vale sempre i+1 < n, tranne che per il punto di arrivo\n",
    "\n",
    "se sono in (i,j) e M[i][j] == '.' allora vale sempre i-1 >= 0, tranne che per il punto di partenza"
   ]
  },
  {
   "cell_type": "code",
   "execution_count": 458,
   "metadata": {},
   "outputs": [],
   "source": [
    "DAG = nx.DiGraph()\n",
    "\n",
    "Q = deque()\n",
    "Q.append(tuple([tuple([0,1]),tuple([1,1])]))\n",
    "\n",
    "while Q:\n",
    "\n",
    "    source, dest = Q.popleft()\n",
    "    DAG.add_edge(source, dest)\n",
    "    \n",
    "    i,j = dest\n",
    "\n",
    "    if M[i-1][j] not in ['#', 'v']:\n",
    "        t = tuple([i-1,j])\n",
    "        if t != source: Q.append(tuple([dest,t]))\n",
    "\n",
    "    if i+1 < n and M[i+1][j] != '#':\n",
    "        t = tuple([i+1,j])\n",
    "        if t != source: Q.append(tuple([dest,t]))\n",
    "\n",
    "    if M[i][j-1] not in ['#', '>']:\n",
    "        t = tuple([i,j-1])\n",
    "        if t != source: Q.append(tuple([dest,t]))\n",
    "\n",
    "    if j+1 < n and M[i][j+1] != '#':\n",
    "        t = tuple([i,j+1])\n",
    "        if t != source: Q.append(tuple([dest,t]))\n",
    "\n",
    "# nx.draw(G)"
   ]
  },
  {
   "cell_type": "code",
   "execution_count": 459,
   "metadata": {},
   "outputs": [
    {
     "data": {
      "text/plain": [
       "2182"
      ]
     },
     "execution_count": 459,
     "metadata": {},
     "output_type": "execute_result"
    }
   ],
   "source": [
    "assert nx.is_directed_acyclic_graph(DAG)\n",
    "\n",
    "max([len(p)-1 for p in nx.all_simple_paths(DAG, source=tuple([0,1]), target=tuple([n-1,n-2]))])"
   ]
  },
  {
   "attachments": {},
   "cell_type": "markdown",
   "metadata": {},
   "source": [
    "## PART 2"
   ]
  },
  {
   "attachments": {},
   "cell_type": "markdown",
   "metadata": {},
   "source": [
    "il problema è np-hard, la mia soluzione è un brute-force su un nuovo grafo che creo \n",
    "\n",
    "il grafo che creo è una compressione del grafo originale, sequenze di archi di grado 2 vengono sostituite con un solo arco\n",
    "\n",
    "nell'immagine sotto, che è l'input di test, gli archi che formano ogni path colorato diventano un solo arco che pesa come la distanza fra i due estremi dell'arco"
   ]
  },
  {
   "attachments": {},
   "cell_type": "markdown",
   "metadata": {},
   "source": [
    "<div>\n",
    "<img src=\"test_input.png\" width=\"350\"/>\n",
    "</div>"
   ]
  },
  {
   "cell_type": "code",
   "execution_count": 460,
   "metadata": {},
   "outputs": [],
   "source": [
    "G = nx.Graph()\n",
    "\n",
    "Q = deque()\n",
    "Q.append(tuple([tuple([0,1]),tuple([1,1])]))\n",
    "\n",
    "while Q:\n",
    "\n",
    "    source, dest = Q.popleft()\n",
    "    if G.has_edge(source,dest): \n",
    "        continue\n",
    "    G.add_edge(source, dest, weight=1)\n",
    "    \n",
    "    i,j = dest\n",
    "\n",
    "    if M[i-1][j] != '#':\n",
    "        t = tuple([i-1,j])\n",
    "        if t != source: Q.append(tuple([dest,t]))\n",
    "\n",
    "    if i+1 < n and M[i+1][j] != '#':\n",
    "        t = tuple([i+1,j])\n",
    "        if t != source: Q.append(tuple([dest,t]))\n",
    "\n",
    "    if M[i][j-1] != '#':\n",
    "        t = tuple([i,j-1])\n",
    "        if t != source: Q.append(tuple([dest,t]))\n",
    "\n",
    "    if j+1 < n and M[i][j+1] != '#':\n",
    "        t = tuple([i,j+1])\n",
    "        if t != source: Q.append(tuple([dest,t]))\n",
    "\n",
    "#nx.draw(G, pos=nx.spring_layout(G))"
   ]
  },
  {
   "attachments": {},
   "cell_type": "markdown",
   "metadata": {},
   "source": [
    "junctions sono i nodi del nuovo grafo compresso"
   ]
  },
  {
   "cell_type": "code",
   "execution_count": 461,
   "metadata": {},
   "outputs": [],
   "source": [
    "junctions = [n for n in G.nodes if G.degree[n] > 2] + [tuple([0,1]), tuple([n-1,n-2])]"
   ]
  },
  {
   "cell_type": "code",
   "execution_count": 462,
   "metadata": {},
   "outputs": [],
   "source": [
    "compressed_G = nx.Graph()\n",
    "\n",
    "for n in junctions:\n",
    "    for x in G.neighbors(n):\n",
    "\n",
    "        S = set([n,x])\n",
    "        cur = x\n",
    "\n",
    "        while len(list(G.neighbors(cur))) == 2 and cur not in junctions:\n",
    "\n",
    "            neighbor1, neighbor2 = list(G.neighbors(cur))\n",
    "            if neighbor1 in S:\n",
    "                S.add(neighbor2)\n",
    "                cur = neighbor2\n",
    "            else:\n",
    "                S.add(neighbor1)\n",
    "                cur = neighbor1\n",
    "        \n",
    "        if not compressed_G.has_edge(cur, n):\n",
    "            compressed_G.add_edge(n, cur, weight=len(S)-1)"
   ]
  },
  {
   "cell_type": "code",
   "execution_count": 454,
   "metadata": {},
   "outputs": [
    {
     "data": {
      "image/png": "[encoded data removed]",
      "text/plain": [
       "<Figure size 432x288 with 1 Axes>"
      ]
     },
     "metadata": {},
     "output_type": "display_data"
    }
   ],
   "source": [
    "nx.draw(compressed_G, pos=nx.spring_layout(compressed_G))"
   ]
  },
  {
   "cell_type": "code",
   "execution_count": 455,
   "metadata": {},
   "outputs": [
    {
     "data": {
      "text/plain": [
       "6670"
      ]
     },
     "execution_count": 455,
     "metadata": {},
     "output_type": "execute_result"
    }
   ],
   "source": [
    "# ci mette circa 1 min\n",
    "max(\n",
    "    nx.path_weight(compressed_G, p, 'weight')\n",
    "    for p in nx.all_simple_paths(compressed_G, source=tuple([0,1]), target=tuple([len(M)-1,len(M)-2]))\n",
    ")"
   ]
  }
 ],
 "metadata": {
  "kernelspec": {
   "display_name": "Python 3",
   "language": "python",
   "name": "python3"
  },
  "language_info": {
   "codemirror_mode": {
    "name": "ipython",
    "version": 3
   },
   "file_extension": ".py",
   "mimetype": "text/x-python",
   "name": "python",
   "nbconvert_exporter": "python",
   "pygments_lexer": "ipython3",
   "version": "3.10.5"
  },
  "orig_nbformat": 4,
  "vscode": {
   "interpreter": {
    "hash": "aee8b7b246df8f9039afb4144a1f6fd8d2ca17a180786b69acc140d282b71a49"
   }
  }
 },
 "nbformat": 4,
 "nbformat_minor": 2
}
