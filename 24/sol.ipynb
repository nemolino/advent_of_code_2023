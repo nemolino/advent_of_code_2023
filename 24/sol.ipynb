{
 "cells": [
  {
   "attachments": {},
   "cell_type": "markdown",
   "metadata": {},
   "source": [
    "## PART 1"
   ]
  },
  {
   "cell_type": "code",
   "execution_count": 20,
   "metadata": {},
   "outputs": [
    {
     "data": {
      "text/plain": [
       "11995"
      ]
     },
     "execution_count": 20,
     "metadata": {},
     "output_type": "execute_result"
    }
   ],
   "source": [
    "with open('input.txt') as f:\n",
    "    input = list(map(lambda x: x.strip(), f.readlines()))\n",
    "\n",
    "PATHS = []\n",
    "\n",
    "for l in input:\n",
    "\n",
    "    pos, delta = l.split(' @ ') \n",
    "    x, y, _ = list(map(lambda x: int(x), pos.split(', ')))\n",
    "    delta_x, delta_y, _ = list(map(lambda x: int(x), delta.split(', ')))\n",
    "\n",
    "    m = delta_y / delta_x\n",
    "    c = y - m*x\n",
    "\n",
    "    PATHS.append([m,c,x,y,delta_x,delta_y])\n",
    "\n",
    "res = 0\n",
    "test_min, test_max = 200000000000000, 400000000000000\n",
    "\n",
    "for i in range(len(PATHS)):\n",
    "    for j in range(i+1, len(PATHS)):\n",
    "        \n",
    "        # parallel lines\n",
    "        if (PATHS[j][0] - PATHS[i][0]) == 0:\n",
    "            continue\n",
    "\n",
    "        x_intersection = (PATHS[i][1] - PATHS[j][1]) / (PATHS[j][0] - PATHS[i][0])\n",
    "        y_intersection = PATHS[i][0] * x_intersection + PATHS[i][1]\n",
    "        \n",
    "        \n",
    "        # A incompatible\n",
    "        if ((x_intersection > PATHS[i][2] and PATHS[i][4] < 0) or\n",
    "            (x_intersection < PATHS[i][2] and PATHS[i][4] > 0) or\n",
    "            (y_intersection > PATHS[i][3] and PATHS[i][5] < 0) or\n",
    "            (y_intersection < PATHS[i][3] and PATHS[i][5] > 0)):\n",
    "            continue\n",
    "        \n",
    "        # B incompatible\n",
    "        if ((x_intersection > PATHS[j][2] and PATHS[j][4] < 0) or\n",
    "            (x_intersection < PATHS[j][2] and PATHS[j][4] > 0) or\n",
    "            (y_intersection > PATHS[j][3] and PATHS[j][5] < 0) or\n",
    "            (y_intersection < PATHS[j][3] and PATHS[j][5] > 0)):\n",
    "            continue\n",
    "        \n",
    "        # cross outside test area\n",
    "        if not (test_min <= x_intersection <= test_max and \n",
    "                test_min <= y_intersection <= test_max):\n",
    "            continue\n",
    "\n",
    "        res += 1\n",
    "\n",
    "res                        "
   ]
  },
  {
   "attachments": {},
   "cell_type": "markdown",
   "metadata": {},
   "source": [
    "## PART 2"
   ]
  }
 ],
 "metadata": {
  "kernelspec": {
   "display_name": "Python 3",
   "language": "python",
   "name": "python3"
  },
  "language_info": {
   "codemirror_mode": {
    "name": "ipython",
    "version": 3
   },
   "file_extension": ".py",
   "mimetype": "text/x-python",
   "name": "python",
   "nbconvert_exporter": "python",
   "pygments_lexer": "ipython3",
   "version": "3.10.5"
  },
  "orig_nbformat": 4,
  "vscode": {
   "interpreter": {
    "hash": "aee8b7b246df8f9039afb4144a1f6fd8d2ca17a180786b69acc140d282b71a49"
   }
  }
 },
 "nbformat": 4,
 "nbformat_minor": 2
}
