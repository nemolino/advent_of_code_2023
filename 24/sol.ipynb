{
 "cells": [
  {
   "attachments": {},
   "cell_type": "markdown",
   "metadata": {},
   "source": [
    "## PART 1"
   ]
  },
  {
   "cell_type": "code",
   "execution_count": 95,
   "metadata": {},
   "outputs": [
    {
     "data": {
      "text/plain": [
       "11995"
      ]
     },
     "execution_count": 95,
     "metadata": {},
     "output_type": "execute_result"
    }
   ],
   "source": [
    "with open('input.txt') as f:\n",
    "    input = list(map(lambda x: x.strip(), f.readlines()))\n",
    "\n",
    "PATHS = []\n",
    "\n",
    "for l in input:\n",
    "\n",
    "    pos, delta = l.split(' @ ') \n",
    "    x, y, _ = list(map(lambda x: int(x), pos.split(', ')))\n",
    "    delta_x, delta_y, _ = list(map(lambda x: int(x), delta.split(', ')))\n",
    "\n",
    "    m = delta_y / delta_x\n",
    "    c = y - m*x\n",
    "\n",
    "    PATHS.append([m,c,x,y,delta_x,delta_y])\n",
    "\n",
    "res = 0\n",
    "test_min, test_max = 200000000000000, 400000000000000\n",
    "\n",
    "for i in range(len(PATHS)):\n",
    "    for j in range(i+1, len(PATHS)):\n",
    "        \n",
    "        # parallel lines\n",
    "        if (PATHS[j][0] - PATHS[i][0]) == 0:\n",
    "            continue\n",
    "\n",
    "        x_intersection = (PATHS[i][1] - PATHS[j][1]) / (PATHS[j][0] - PATHS[i][0])\n",
    "        y_intersection = PATHS[i][0] * x_intersection + PATHS[i][1]\n",
    "        \n",
    "        \n",
    "        # A incompatible\n",
    "        if ((x_intersection > PATHS[i][2] and PATHS[i][4] < 0) or\n",
    "            (x_intersection < PATHS[i][2] and PATHS[i][4] > 0) or\n",
    "            (y_intersection > PATHS[i][3] and PATHS[i][5] < 0) or\n",
    "            (y_intersection < PATHS[i][3] and PATHS[i][5] > 0)):\n",
    "            continue\n",
    "        \n",
    "        # B incompatible\n",
    "        if ((x_intersection > PATHS[j][2] and PATHS[j][4] < 0) or\n",
    "            (x_intersection < PATHS[j][2] and PATHS[j][4] > 0) or\n",
    "            (y_intersection > PATHS[j][3] and PATHS[j][5] < 0) or\n",
    "            (y_intersection < PATHS[j][3] and PATHS[j][5] > 0)):\n",
    "            continue\n",
    "        \n",
    "        # cross outside test area\n",
    "        if not (test_min <= x_intersection <= test_max and \n",
    "                test_min <= y_intersection <= test_max):\n",
    "            continue\n",
    "\n",
    "        res += 1\n",
    "\n",
    "res                        "
   ]
  },
  {
   "attachments": {},
   "cell_type": "markdown",
   "metadata": {},
   "source": [
    "## PART 2"
   ]
  },
  {
   "attachments": {},
   "cell_type": "markdown",
   "metadata": {},
   "source": [
    "#### *IDEA rubata dal subreddit, shame on me*\n",
    "\n",
    "To figure the correct starting point + velocity, we solve some systems of linear equations. \n",
    "\n",
    "Write your starting point and velocity as unknowns x, y, z, Vx, Vy, Vz. \n",
    "\n",
    "Equating the position of the rock at time t1 (another unknown parameter) with the position of one of the hailstones at the same time t1, we get a system of 3 equations and 7 unknowns. \n",
    "\n",
    "Unfortunately, these equations have degree 2 - this is not a linear system!\n",
    "\n",
    "However, manipulating these equations a bit we can get a linear equation of the type:\n",
    "\n",
    "(Vy1-Vy2)x - (Vx1-Vx2)y + - (y1-y2)Vx + (x1-x2)Vy = y2Vx2 + x2Vy2 - y1Vx1 - x1Vy1\n",
    "\n",
    "Where x1, y1, z2, Vx1, Vy1, Vz1 and x2, y2, z2, Vx2, Vy2, Vz2 are the starting points and velocities of two of the hailstones.\n",
    "\n",
    "So with 2 lines we can get a linear equation. Similarly, we can get equations involving the unknowns z and Vz.\n",
    "\n",
    "We can use the myriad of hailstones we have to generate as many equations as we like. \n",
    "\n",
    "The system is going to be overdetermined, but the problem statement seems to ensure that there is going to be a solution. \n",
    "\n",
    "On the other hand it can happen that we make a bad choice of lines and the equation we use are underdetermined. \n",
    "\n",
    "This last problem is not accounted for in the code - if it happens, one can shuffle the input file until it works."
   ]
  },
  {
   "cell_type": "code",
   "execution_count": 96,
   "metadata": {},
   "outputs": [],
   "source": [
    "import numpy as np\n",
    "from collections import namedtuple"
   ]
  },
  {
   "cell_type": "code",
   "execution_count": 97,
   "metadata": {},
   "outputs": [],
   "source": [
    "Halestone = namedtuple('Halestone', ['x', 'y', 'z', 'Δx', 'Δy', 'Δz'])\n",
    "\n",
    "H = []\n",
    "\n",
    "for l in input[:6]:\n",
    "\n",
    "    pos, delta = l.split(' @ ') \n",
    "    x, y, z = list(map(lambda x: int(x), pos.split(', ')))\n",
    "    Δx, Δy, Δz = list(map(lambda x: int(x), delta.split(', ')))\n",
    "\n",
    "    H.append(Halestone(x,y,z,Δx,Δy,Δz))"
   ]
  },
  {
   "cell_type": "code",
   "execution_count": 99,
   "metadata": {},
   "outputs": [
    {
     "data": {
      "text/plain": [
       "983620716335751"
      ]
     },
     "execution_count": 99,
     "metadata": {},
     "output_type": "execute_result"
    }
   ],
   "source": [
    "# ho provato ad usare un po' di Halestones diverse fino a che non ha funzionato LOL\n",
    "\n",
    "# First equation: lines 0 and 1, x and y only\n",
    "# Second equation: lines 0 and 4, x and y only\n",
    "# Third equation: lines 0 and 1, x and z only\n",
    "# Fourth equation: lines 0 and 4, x and z only\n",
    "# Fifth equation: lines 0 and 1, y and z only\n",
    "# Sixth equation: lines 0 and 4, y and z only\n",
    "\n",
    "A = np.array([  [H[0].Δy - H[1].Δy, H[1].Δx - H[0].Δx, 0.0, H[1].y - H[0].y, H[0].x - H[1].x, 0.0],\n",
    "                [H[0].Δy - H[4].Δy, H[4].Δx - H[0].Δx, 0.0, H[4].y - H[0].y, H[0].x - H[4].x, 0.0],\n",
    "\t\t        [H[0].Δz - H[1].Δz, 0.0, H[1].Δx - H[0].Δx, H[1].z - H[0].z, 0.0, H[0].x - H[1].x],\n",
    "\t\t        [H[0].Δz - H[4].Δz, 0.0, H[4].Δx - H[0].Δx, H[4].z - H[0].z, 0.0, H[0].x - H[4].x],\n",
    "\t\t        [0.0, H[0].Δz - H[1].Δz, H[1].Δy - H[0].Δy, 0.0, H[1].z - H[0].z, H[0].y - H[1].y],\n",
    "\t\t        [0.0, H[0].Δz - H[4].Δz, H[4].Δy - H[0].Δy, 0.0, H[4].z - H[0].z, H[0].y - H[4].y]  ])\n",
    "\n",
    "b = np.array([  H[1].y * H[1].Δx - H[1].x * H[1].Δy - H[0].y * H[0].Δx + H[0].x * H[0].Δy,\n",
    "\t\t        H[4].y * H[4].Δx - H[4].x * H[4].Δy - H[0].y * H[0].Δx + H[0].x * H[0].Δy,\n",
    "                H[1].z * H[1].Δx - H[1].x * H[1].Δz - H[0].z * H[0].Δx + H[0].x * H[0].Δz,\n",
    "\t\t        H[4].z * H[4].Δx - H[4].x * H[4].Δz - H[0].z * H[0].Δx + H[0].x * H[0].Δz,\n",
    "\t\t        H[1].z * H[1].Δy - H[1].y * H[1].Δz - H[0].z * H[0].Δy + H[0].y * H[0].Δz,\n",
    "\t\t        H[4].z * H[4].Δy - H[4].y * H[4].Δz - H[0].z * H[0].Δy + H[0].y * H[0].Δz   ])\n",
    "\n",
    "x = np.linalg.solve(A, b)\n",
    "\n",
    "int(x[0] + x[1] + x[2])"
   ]
  }
 ],
 "metadata": {
  "kernelspec": {
   "display_name": "Python 3",
   "language": "python",
   "name": "python3"
  },
  "language_info": {
   "codemirror_mode": {
    "name": "ipython",
    "version": 3
   },
   "file_extension": ".py",
   "mimetype": "text/x-python",
   "name": "python",
   "nbconvert_exporter": "python",
   "pygments_lexer": "ipython3",
   "version": "3.10.5"
  },
  "orig_nbformat": 4,
  "vscode": {
   "interpreter": {
    "hash": "aee8b7b246df8f9039afb4144a1f6fd8d2ca17a180786b69acc140d282b71a49"
   }
  }
 },
 "nbformat": 4,
 "nbformat_minor": 2
}
